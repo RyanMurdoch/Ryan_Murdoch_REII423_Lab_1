{
 "cells": [
  {
   "cell_type": "code",
   "execution_count": 1,
   "metadata": {},
   "outputs": [
    {
     "name": "stdout",
     "output_type": "stream",
     "text": [
      "['Time Stamp,\"Time Zone\",\"Name\",\"PTID\",\"Load\"']\n",
      "['01/01/2004 00:00:00,\"EST\",\"CAPITL\",61757,1015']\n",
      "['01/01/2004 00:00:00,\"EST\",\"CAPITL\",61757,1015']\n",
      "['01/01/2004 00:00:00,\"EST\",\"CENTRL\",61754,1651']\n",
      "['01/01/2004 00:00:00,\"EST\",\"DUNWOD\",61760,618']\n",
      "['01/01/2004 00:00:00,\"EST\",\"GENESE\",61753,972']\n"
     ]
    }
   ],
   "source": [
    "import csv\n",
    "filename = \"duplicate.csv\"\n",
    "f = open(filename,\"r\")\n",
    "\n",
    "c = csv.reader(f)\n",
    "i = next(c)\n",
    "print(i)\n",
    "\n",
    "for i in range(5):\n",
    "    j = next(c)\n",
    "    print(j)"
   ]
  },
  {
   "cell_type": "code",
   "execution_count": 2,
   "metadata": {
    "collapsed": true
   },
   "outputs": [],
   "source": [
    "InputFile = open('duplicate.csv','r')\n",
    "OutputFile = open('no_duplicate.csv','w')\n",
    "\n",
    "LineList = []\n",
    "\n",
    "for line in InputFile:\n",
    "    \n",
    "    if line in LineList:\n",
    "        continue\n",
    "        \n",
    "    else:\n",
    "        OutputFile.write(line)\n",
    "        LineList.append(line)\n",
    "\n",
    "OutputFile.close()\n",
    "InputFile.close()"
   ]
  },
  {
   "cell_type": "code",
   "execution_count": 3,
   "metadata": {},
   "outputs": [
    {
     "name": "stdout",
     "output_type": "stream",
     "text": [
      "['Time Stamp,\"Time Zone\",\"Name\",\"PTID\",\"Load\"']\n",
      "['01/01/2004 00:00:00,\"EST\",\"CAPITL\",61757,1015']\n",
      "['01/01/2004 00:00:00,\"EST\",\"CENTRL\",61754,1651']\n",
      "['01/01/2004 00:00:00,\"EST\",\"DUNWOD\",61760,618']\n",
      "['01/01/2004 00:00:00,\"EST\",\"GENESE\",61753,972']\n",
      "['01/01/2004 00:00:00,\"EST\",\"HUD VL\",61758,1120']\n"
     ]
    }
   ],
   "source": [
    "import csv\n",
    "filename = \"no_duplicate.csv\"\n",
    "f = open(filename,\"r\")\n",
    "\n",
    "c = csv.reader(f)\n",
    "i = next(c)\n",
    "print(i)\n",
    "\n",
    "for i in range(5):\n",
    "    j = next(c)\n",
    "    print(j)"
   ]
  }
 ],
 "metadata": {
  "kernelspec": {
   "display_name": "Python 3",
   "language": "python",
   "name": "python3"
  },
  "language_info": {
   "codemirror_mode": {
    "name": "ipython",
    "version": 3
   },
   "file_extension": ".py",
   "mimetype": "text/x-python",
   "name": "python",
   "nbconvert_exporter": "python",
   "pygments_lexer": "ipython3",
   "version": "3.6.1"
  }
 },
 "nbformat": 4,
 "nbformat_minor": 2
}
